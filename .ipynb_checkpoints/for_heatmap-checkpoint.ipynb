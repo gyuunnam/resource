{
 "cells": [
  {
   "cell_type": "code",
   "execution_count": 1,
   "id": "e99a58f4",
   "metadata": {},
   "outputs": [],
   "source": [
    "import pandas as pd"
   ]
  },
  {
   "cell_type": "code",
   "execution_count": 74,
   "id": "82beae05",
   "metadata": {},
   "outputs": [],
   "source": [
    "clinic=pd.read_csv(\"./Clinic_final2.csv\")\n",
    "hospital=pd.read_csv(\"./Hospital_final2.csv\")\n",
    "fitness=pd.read_csv(\"./Fitness_final2.csv\")"
   ]
  },
  {
   "cell_type": "code",
   "execution_count": null,
   "id": "a0b6d5e5",
   "metadata": {},
   "outputs": [],
   "source": [
    "clinic=clinic.drop(['Category','Address','Latitude','Longitude','Url','Company_Name','Territory'],axis=1)\n",
    "clinic['Number']=1\n",
    "clinic=clinic.groupby(\"State\").sum()\n",
    "clinic"
   ]
  },
  {
   "cell_type": "code",
   "execution_count": 73,
   "id": "5f8dc724",
   "metadata": {},
   "outputs": [],
   "source": [
    "def aggregate(df):\n",
    "    df=df.drop(['Category','Address','Latitude','Longitude','Url','Company_Name','Territory'],axis=1)\n",
    "    df['Number']=1\n",
    "    df=df.groupby(\"State\").sum()\n",
    "    return df"
   ]
  },
  {
   "cell_type": "code",
   "execution_count": 75,
   "id": "f172c5b4",
   "metadata": {},
   "outputs": [],
   "source": [
    "clinic=aggregate(clinic)\n",
    "hospital=aggregate(hospital)\n",
    "fitness=aggregate(fitness)"
   ]
  },
  {
   "cell_type": "code",
   "execution_count": 77,
   "id": "cb84fa40",
   "metadata": {},
   "outputs": [],
   "source": [
    "clinic.to_csv('./clinic_num.csv',encoding='utf-8')"
   ]
  },
  {
   "cell_type": "code",
   "execution_count": 78,
   "id": "1298f45f",
   "metadata": {},
   "outputs": [],
   "source": [
    "hospital.to_csv('./hospital_num.csv',encoding='utf-8')"
   ]
  },
  {
   "cell_type": "code",
   "execution_count": 79,
   "id": "cf08acad",
   "metadata": {},
   "outputs": [],
   "source": [
    "fitness.to_csv('./fitness.csv',encoding='utf-8')"
   ]
  },
  {
   "cell_type": "code",
   "execution_count": null,
   "id": "f579a041",
   "metadata": {},
   "outputs": [],
   "source": []
  }
 ],
 "metadata": {
  "kernelspec": {
   "display_name": "Python 3",
   "language": "python",
   "name": "python3"
  },
  "language_info": {
   "codemirror_mode": {
    "name": "ipython",
    "version": 3
   },
   "file_extension": ".py",
   "mimetype": "text/x-python",
   "name": "python",
   "nbconvert_exporter": "python",
   "pygments_lexer": "ipython3",
   "version": "3.8.10"
  }
 },
 "nbformat": 4,
 "nbformat_minor": 5
}
